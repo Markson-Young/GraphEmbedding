{
 "cells": [
  {
   "cell_type": "markdown",
   "metadata": {},
   "source": [
    "# Node2Vec官方作者Aditya Grover代码解读\n",
    "\n",
    "同济子豪兄\n",
    "\n",
    "2022-7-17\n",
    "\n",
    "## 参考资料\n",
    "\n",
    "Node2Vec官方作者Aditya Grover代码：https://github.com/aditya-grover/node2vec\n",
    "\n",
    "深度之眼 赵老师"
   ]
  },
  {
   "cell_type": "markdown",
   "metadata": {},
   "source": [
    "## 导入工具包"
   ]
  },
  {
   "cell_type": "code",
   "execution_count": 1,
   "metadata": {},
   "outputs": [],
   "source": [
    "import warnings\n",
    "warnings.filterwarnings('ignore')\n",
    "import argparse\n",
    "import numpy as np\n",
    "import networkx as nx\n",
    "from gensim.models import Word2Vec\n",
    "import random\n",
    "\n",
    "import matplotlib.pyplot as plt\n",
    "%matplotlib inline"
   ]
  },
  {
   "cell_type": "markdown",
   "metadata": {},
   "source": [
    "## 读入命令行参数"
   ]
  },
  {
   "cell_type": "code",
   "execution_count": 2,
   "metadata": {},
   "outputs": [],
   "source": [
    "def parse_args():\n",
    "    '''\n",
    "    Parses the node2vec arguments.\n",
    "    '''\n",
    "    # 使用parser加载信息\n",
    "    parser = argparse.ArgumentParser(description=\"Run node2vec.\")\n",
    "    # 输入文件：邻接表\n",
    "    parser.add_argument('--input', nargs='?', default='karate.edgelist',\n",
    "                        help='Input graph path')\n",
    "    # 输出文件：节点嵌入表\n",
    "    parser.add_argument('--output', nargs='?', default='karate.emb',\n",
    "                        help='Embeddings path')\n",
    "    # embedding嵌入向量维度\n",
    "    parser.add_argument('--dimensions', type=int, default=128,\n",
    "                        help='Number of dimensions. Default is 128.')\n",
    "    # 随机游走序列长度\n",
    "    parser.add_argument('--walk-length', type=int, default=80,\n",
    "                        help='Length of walk per source. Default is 80.')\n",
    "    # 每个节点生成随机游走序列次数\n",
    "    parser.add_argument('--num-walks', type=int, default=10,\n",
    "                        help='Number of walks per source. Default is 10.')\n",
    "    # word2vec窗口大小，word2vec参数\n",
    "    parser.add_argument('--window-size', type=int, default=10,\n",
    "                        help='Context size for optimization. Default is 10.')\n",
    "    # SGD优化时epoch数量，word2vec参数\n",
    "    parser.add_argument('--iter', default=1, type=int,\n",
    "                        help='Number of epochs in SGD')\n",
    "    # 并行化核数，word2vec参数\n",
    "    parser.add_argument('--workers', type=int, default=8,\n",
    "                        help='Number of parallel workers. Default is 8.')\n",
    "    # 参数p\n",
    "    parser.add_argument('--p', type=float, default=1,\n",
    "                        help='Return hyperparameter. Default is 1.')\n",
    "    # 参数q\n",
    "    parser.add_argument('--q', type=float, default=2,\n",
    "                        help='Inout hyperparameter. Default is 2.')\n",
    "    # 连接是否带权重\n",
    "    parser.add_argument('--weighted', dest='weighted', action='store_true',\n",
    "                        help='Boolean specifying (un)weighted. Default is unweighted.')\n",
    "    parser.add_argument('--unweighted', dest='unweighted', action='store_false')\n",
    "    parser.set_defaults(weighted=False)\n",
    "    \n",
    "    # 有向图还是无向图\n",
    "    parser.add_argument('--directed', dest='directed', action='store_true',\n",
    "                        help='Graph is (un)directed. Default is undirected.')\n",
    "    parser.add_argument('--undirected', dest='undirected', action='store_false')\n",
    "    parser.set_defaults(directed=False)\n",
    "    \n",
    "    return parser.parse_args(args=[])\n",
    "\n",
    "args = parse_args()"
   ]
  },
  {
   "cell_type": "code",
   "execution_count": 3,
   "metadata": {},
   "outputs": [
    {
     "data": {
      "text/plain": [
       "Namespace(dimensions=128, directed=False, input='karate.edgelist', iter=1, num_walks=10, output='karate.emb', p=1, q=2, undirected=True, unweighted=True, walk_length=80, weighted=False, window_size=10, workers=8)"
      ]
     },
     "execution_count": 3,
     "metadata": {},
     "output_type": "execute_result"
    }
   ],
   "source": [
    "args"
   ]
  },
  {
   "cell_type": "markdown",
   "metadata": {},
   "source": [
    "## 载入图"
   ]
  },
  {
   "cell_type": "code",
   "execution_count": 4,
   "metadata": {},
   "outputs": [],
   "source": [
    "# 连接带权重\n",
    "if args.weighted:\n",
    "    G = nx.read_edgelist(args.input, nodetype=int, data=(('weight', float),), create_using=nx.DiGraph())\n",
    "# 连接不带权重\n",
    "else:\n",
    "    G = nx.read_edgelist(args.input, nodetype=int, create_using=nx.DiGraph())\n",
    "    for edge in G.edges():\n",
    "        G[edge[0]][edge[1]]['weight'] = np.abs(np.random.randn())\n",
    "        \n",
    "# 无向图\n",
    "if not args.directed:\n",
    "    G = G.to_undirected()"
   ]
  },
  {
   "cell_type": "code",
   "execution_count": 5,
   "metadata": {},
   "outputs": [
    {
     "data": {
      "text/plain": [
       "34"
      ]
     },
     "execution_count": 5,
     "metadata": {},
     "output_type": "execute_result"
    }
   ],
   "source": [
    "len(G)"
   ]
  },
  {
   "cell_type": "code",
   "execution_count": 6,
   "metadata": {},
   "outputs": [
    {
     "data": {
      "text/plain": [
       "NodeView((1, 32, 22, 20, 18, 14, 13, 12, 11, 9, 8, 7, 6, 5, 4, 3, 2, 31, 10, 33, 29, 28, 17, 34, 15, 16, 19, 21, 23, 24, 30, 26, 25, 27))"
      ]
     },
     "execution_count": 6,
     "metadata": {},
     "output_type": "execute_result"
    }
   ],
   "source": [
    "G.nodes"
   ]
  },
  {
   "cell_type": "code",
   "execution_count": 7,
   "metadata": {},
   "outputs": [
    {
     "data": {
      "text/plain": [
       "EdgeView([(1, 32), (1, 22), (1, 20), (1, 18), (1, 14), (1, 13), (1, 12), (1, 11), (1, 9), (1, 8), (1, 7), (1, 6), (1, 5), (1, 4), (1, 3), (1, 2), (32, 34), (32, 33), (32, 29), (32, 26), (32, 25), (22, 2), (20, 34), (20, 2), (18, 2), (14, 34), (14, 4), (14, 3), (14, 2), (13, 4), (11, 6), (11, 5), (9, 34), (9, 33), (9, 3), (8, 4), (8, 3), (8, 2), (7, 17), (7, 6), (7, 5), (6, 17), (4, 3), (4, 2), (3, 10), (3, 33), (3, 29), (3, 28), (3, 2), (2, 31), (31, 34), (31, 33), (10, 34), (33, 34), (33, 15), (33, 16), (33, 19), (33, 21), (33, 23), (33, 24), (33, 30), (29, 34), (28, 34), (28, 24), (28, 25), (34, 15), (34, 16), (34, 19), (34, 21), (34, 23), (34, 24), (34, 30), (34, 27), (24, 30), (24, 26), (30, 27), (26, 25)])"
      ]
     },
     "execution_count": 7,
     "metadata": {},
     "output_type": "execute_result"
    }
   ],
   "source": [
    "G.edges"
   ]
  },
  {
   "cell_type": "code",
   "execution_count": 8,
   "metadata": {},
   "outputs": [
    {
     "data": {
      "image/png": "[encoded data removed]",
      "text/plain": [
       "<Figure size 432x288 with 1 Axes>"
      ]
     },
     "metadata": {},
     "output_type": "display_data"
    }
   ],
   "source": [
    "# 可视化\n",
    "pos = nx.spring_layout(G, seed=4)\n",
    "nx.draw(G, pos, with_labels=True)\n",
    "plt.show()"
   ]
  },
  {
   "cell_type": "markdown",
   "metadata": {},
   "source": [
    "## Alias Sampling\n",
    "\n",
    "参考博客\n",
    "\n",
    "https://keithschwarz.com/darts-dice-coins\n",
    "\n",
    "https://www.bilibili.com/video/av798804262\n",
    "\n",
    "https://www.cnblogs.com/Lee-yl/p/12749070.html"
   ]
  },
  {
   "cell_type": "markdown",
   "metadata": {},
   "source": [
    "![](alias-sampling.png)"
   ]
  },
  {
   "cell_type": "code",
   "execution_count": 9,
   "metadata": {},
   "outputs": [],
   "source": [
    "def alias_setup(probs):\n",
    "    '''\n",
    "    Compute utility lists for non-uniform sampling from discrete distributions.\n",
    "    Refer to https://hips.seas.harvard.edu/blog/2013/03/03/the-alias-method-efficient-sampling-with-many-discrete-outcomes/\n",
    "    for details\n",
    "    '''\n",
    "    K = len(probs)\n",
    "    # q corrsespond to Prob\n",
    "    q = np.zeros(K)\n",
    "    # J Alias\n",
    "    J = np.zeros(K, dtype=np.int)\n",
    "\n",
    "    smaller = []\n",
    "    larger = []\n",
    "    \n",
    "    # 将各个概率分成两组，一组的概率值大于1，另一组的概率值小于1\n",
    "    for kk, prob in enumerate(probs):\n",
    "        q[kk] = K*prob # 每类事件的概率 乘 事件个数\n",
    "        \n",
    "        # 判定”劫富”和“济贫“的对象\n",
    "        if q[kk] < 1.0:\n",
    "            smaller.append(kk)\n",
    "        else:\n",
    "            larger.append(kk)\n",
    "    \n",
    "    # 使用贪心算法，将概率值小于1的不断填满\n",
    "    # pseudo code step 3\n",
    "    while len(smaller) > 0 and len(larger) > 0:\n",
    "        small = smaller.pop()\n",
    "        large = larger.pop()\n",
    "\n",
    "        J[small] = large\n",
    "        # 更新概率值，劫富济贫，削峰填谷\n",
    "        q[large] = q[large] - (1 - q[small])\n",
    "        if q[large] < 1.0:\n",
    "            smaller.append(large) # 把被打倒的土豪归为贫农\n",
    "        else:\n",
    "            larger.append(large)\n",
    "\n",
    "    return J, q"
   ]
  },
  {
   "cell_type": "code",
   "execution_count": 10,
   "metadata": {},
   "outputs": [],
   "source": [
    "def alias_draw(J, q):\n",
    "    '''\n",
    "    Draw sample from a non-uniform discrete distribution using alias sampling.\n",
    "    O(1)的采样\n",
    "    '''\n",
    "    K = len(J) # 事件个数\n",
    "\n",
    "    kk = int(np.floor(np.random.rand()*K)) # 生成1到K的随机整数\n",
    "    if np.random.rand() < q[kk]:\n",
    "        return kk # 取自己本来就对应的事件 \n",
    "    else:\n",
    "        return J[kk] # 取alias事件"
   ]
  },
  {
   "cell_type": "code",
   "execution_count": 11,
   "metadata": {},
   "outputs": [],
   "source": [
    "def get_alias_edge(src, dst):\n",
    "    p = args.p\n",
    "    q = args.q\n",
    "\n",
    "    unnormalized_probs = []\n",
    "    \n",
    "    # 论文3.2.2节核心算法，计算各条边的转移权重\n",
    "    for dst_nbr in sorted(G.neighbors(dst)):\n",
    "        if dst_nbr == src:\n",
    "            unnormalized_probs.append(G[dst][dst_nbr]['weight']/p)\n",
    "        elif G.has_edge(dst_nbr, src):\n",
    "            unnormalized_probs.append(G[dst][dst_nbr]['weight'])\n",
    "        else:\n",
    "            unnormalized_probs.append(G[dst][dst_nbr]['weight']/q)\n",
    "\n",
    "    # 归一化各条边的转移权重\n",
    "    norm_const = sum(unnormalized_probs)\n",
    "    normalized_probs =  [float(u_prob)/norm_const for u_prob in unnormalized_probs]\n",
    "    \n",
    "    # 执行 Alias Sampling\n",
    "    return alias_setup(normalized_probs)"
   ]
  },
  {
   "cell_type": "code",
   "execution_count": 12,
   "metadata": {},
   "outputs": [
    {
     "data": {
      "text/plain": [
       "(array([0, 0]), array([1.        , 0.99287252]))"
      ]
     },
     "execution_count": 12,
     "metadata": {},
     "output_type": "execute_result"
    }
   ],
   "source": [
    "get_alias_edge(15, 16)"
   ]
  },
  {
   "cell_type": "code",
   "execution_count": 13,
   "metadata": {
    "scrolled": true
   },
   "outputs": [
    {
     "name": "stdout",
     "output_type": "stream",
     "text": [
      "25号节点\n",
      "[2.1920637710428705, 0.32773500112215365, 0.09475410123694732]\n",
      "2.6145528734019714\n",
      "[0.8384086599827022, 0.12535030538346523, 0.036241034633832575]\n",
      "(array([0, 0, 0]), array([1.        , 0.37605092, 0.1087231 ]))\n"
     ]
    }
   ],
   "source": [
    "is_directed = args.directed\n",
    "alias_nodes = {}\n",
    "\n",
    "# 节点概率alias sampling和归一化\n",
    "for node in G.nodes():\n",
    "    unnormalized_probs = [G[node][nbr]['weight'] for nbr in sorted(G.neighbors(node))]\n",
    "    norm_const = sum(unnormalized_probs)\n",
    "    normalized_probs =  [float(u_prob)/norm_const for u_prob in unnormalized_probs]\n",
    "    alias_nodes[node] = alias_setup(normalized_probs)\n",
    "    # 信息展示\n",
    "    if node == 25:\n",
    "        print('25号节点')\n",
    "        print(unnormalized_probs)\n",
    "        print(norm_const)\n",
    "        print(normalized_probs)\n",
    "        print(alias_nodes[node])"
   ]
  },
  {
   "cell_type": "code",
   "execution_count": 14,
   "metadata": {},
   "outputs": [],
   "source": [
    "alias_edges = {}\n",
    "triads = {}\n",
    "\n",
    "# 边概率alias sampling和归一化\n",
    "if is_directed:\n",
    "    for edge in G.edges():\n",
    "        alias_edges[edge] = get_alias_edge(edge[0], edge[1])\n",
    "else:\n",
    "    for edge in G.edges():\n",
    "        alias_edges[edge] = get_alias_edge(edge[0], edge[1])\n",
    "        alias_edges[(edge[1], edge[0])] = get_alias_edge(edge[1], edge[0])"
   ]
  },
  {
   "cell_type": "code",
   "execution_count": 47,
   "metadata": {},
   "outputs": [],
   "source": [
    "# 25号节点\n",
    "# [1.1586240507181784, 0.020391845658342782, 0.3362738912277038]\n",
    "# 1.515289787604225\n",
    "# [0.7646220942002393, 0.013457390015532053, 0.22192051578422858]\n",
    "# (array([0, 0, 0]), array([1.        , 0.04037217, 0.66576155]))"
   ]
  },
  {
   "cell_type": "markdown",
   "metadata": {},
   "source": [
    "![](alias_result.png)"
   ]
  },
  {
   "cell_type": "code",
   "execution_count": 15,
   "metadata": {},
   "outputs": [
    {
     "data": {
      "text/plain": [
       "{1: (array([ 0,  0,  1,  1,  3,  1,  3,  4,  4,  4,  4,  4,  7,  4,  7, 12]),\n",
       "  array([1.        , 0.85127456, 0.41972216, 0.87203933, 0.64813963,\n",
       "         0.51809209, 0.79495076, 0.46705547, 0.49062574, 0.85282988,\n",
       "         0.8716921 , 0.2340539 , 0.62150297, 0.93835217, 0.08564636,\n",
       "         0.41316468])),\n",
       " 32: (array([4, 4, 5, 5, 0, 4]),\n",
       "  array([0.61095678, 0.15737387, 0.67365887, 0.6156385 , 1.        ,\n",
       "         0.84110097])),\n",
       " 22: (array([1, 0]), array([0.34741211, 1.        ])),\n",
       " 20: (array([1, 0, 1]), array([0.91043109, 1.        , 0.40116567])),\n",
       " 18: (array([0, 0]), array([1.        , 0.68704206])),\n",
       " 14: (array([3, 0, 4, 1, 3]),\n",
       "  array([0.24774739, 1.        , 0.02721161, 0.28720411, 0.78936819])),\n",
       " 13: (array([1, 0]), array([0.49594167, 1.        ])),\n",
       " 12: (array([0]), array([1.])),\n",
       " 11: (array([2, 0, 1]), array([0.40420509, 1.        , 0.72807059])),\n",
       " 9: (array([0, 3, 0, 2]),\n",
       "  array([1.        , 0.3482699 , 0.89626081, 0.6483216 ])),\n",
       " 8: (array([1, 0, 1, 1]),\n",
       "  array([0.71796742, 1.        , 0.96062606, 0.09730199])),\n",
       " 7: (array([3, 3, 3, 0]),\n",
       "  array([0.73002205, 0.32608271, 0.17813683, 1.        ])),\n",
       " 6: (array([0, 0, 0, 2]),\n",
       "  array([1.        , 0.10650749, 0.54002144, 0.1862421 ])),\n",
       " 5: (array([0, 2, 0]), array([1.        , 0.21666805, 0.66213337])),\n",
       " 4: (array([4, 0, 4, 5, 1, 4]),\n",
       "  array([0.40052973, 1.        , 0.30718343, 0.10280875, 0.46023864,\n",
       "         0.22979966])),\n",
       " 3: (array([0, 0, 0, 1, 0, 0, 8, 9, 3, 8]),\n",
       "  array([1.        , 0.92136016, 0.36018046, 0.81454195, 0.62134699,\n",
       "         0.81294571, 0.02876446, 0.52259232, 0.62443751, 0.58602623])),\n",
       " 2: (array([2, 3, 0, 2, 3, 3, 4, 6, 6]),\n",
       "  array([0.89132465, 0.76753954, 1.        , 0.85668715, 0.68775412,\n",
       "         0.49061489, 0.43220973, 0.31611727, 0.76584105])),\n",
       " 31: (array([2, 2, 0]), array([0.97436892, 0.86946933, 1.        ])),\n",
       " 10: (array([1, 0]), array([0.92900816, 1.        ])),\n",
       " 33: (array([ 0,  0,  1,  1,  1,  8, 10,  1,  7,  8,  9, 10]),\n",
       "  array([1.        , 0.72734241, 0.32918619, 0.77563335, 0.52237403,\n",
       "         0.03363169, 0.37224304, 0.43566705, 0.05891437, 0.97622007,\n",
       "         0.79686089, 0.25985584])),\n",
       " 29: (array([0, 2, 0]), array([1.        , 0.36326134, 0.43286927])),\n",
       " 28: (array([3, 3, 3, 0]),\n",
       "  array([0.42874125, 0.52291895, 0.33790733, 1.        ])),\n",
       " 17: (array([1, 0]), array([0.20245015, 1.        ])),\n",
       " 34: (array([ 0,  0,  0,  2,  2,  3,  7,  3,  7,  7,  8,  8,  8, 11, 11, 11, 11]),\n",
       "  array([1.        , 0.66371463, 0.69368431, 0.92201847, 0.45249905,\n",
       "         0.44830715, 0.32763552, 0.64002565, 0.84990867, 0.96387293,\n",
       "         0.78329407, 0.59944367, 0.97138712, 0.34637297, 0.92803119,\n",
       "         0.83156823, 0.15377461])),\n",
       " 15: (array([1, 0]), array([0.19206638, 1.        ])),\n",
       " 16: (array([0, 0]), array([1.        , 0.99287252])),\n",
       " 19: (array([1, 0]), array([0.81624428, 1.        ])),\n",
       " 21: (array([1, 0]), array([0.02621277, 1.        ])),\n",
       " 23: (array([1, 0]), array([0.25672894, 1.        ])),\n",
       " 24: (array([0, 3, 4, 0, 3]),\n",
       "  array([1.        , 0.71280919, 0.28239186, 0.80382997, 0.80447271])),\n",
       " 30: (array([2, 3, 0, 2]),\n",
       "  array([0.53806561, 0.55184501, 1.        , 0.59403041])),\n",
       " 26: (array([1, 0, 1]), array([0.740349  , 1.        , 0.35282771])),\n",
       " 25: (array([0, 0, 0]), array([1.        , 0.37605092, 0.1087231 ])),\n",
       " 27: (array([1, 0]), array([0.37944941, 1.        ]))}"
      ]
     },
     "execution_count": 15,
     "metadata": {},
     "output_type": "execute_result"
    }
   ],
   "source": [
    "# 每个节点的 J表 和 q表 （不考虑p、q值）\n",
    "alias_nodes"
   ]
  },
  {
   "cell_type": "code",
   "execution_count": 16,
   "metadata": {},
   "outputs": [
    {
     "data": {
      "text/plain": [
       "{(1, 32): (array([0, 4, 4, 5, 0, 4]),\n",
       "  array([1.        , 0.14283004, 0.61140216, 0.55874379, 0.89101054,\n",
       "         0.96713623])),\n",
       " (32,\n",
       "  1): (array([ 0,  0,  1,  1,  3,  1,  3,  4,  4,  4,  4,  4,  7,  4,  7, 12]), array([1.        , 0.88019116, 0.40915659, 0.9759515 , 0.80803349,\n",
       "         0.50505028, 0.77493966, 0.78254429, 0.47827534, 0.83136179,\n",
       "         0.8497492 , 0.22816211, 0.98344945, 0.91473125, 0.08349041,\n",
       "         0.80552838])),\n",
       " (1, 22): (array([1, 0]), array([0.34741211, 1.        ])),\n",
       " (22,\n",
       "  1): (array([ 0,  0,  0,  1,  3,  0,  1,  4,  1,  3,  3,  4,  7,  4,  7, 12]), array([1.        , 0.99645322, 0.38966053, 0.90774418, 0.98013329,\n",
       "         0.48098495, 0.73801426, 0.29824782, 0.45548581, 0.79174792,\n",
       "         0.80925918, 0.21729033, 0.50536659, 0.87114488, 0.15902428,\n",
       "         0.38357272])),\n",
       " (1, 20): (array([1, 0, 1]), array([0.97566497, 1.        , 0.21495492])),\n",
       " (20,\n",
       "  1): (array([ 0,  0,  0,  1,  3,  1,  1,  4,  3,  4,  4,  4,  7, 12, 13, 13]), array([1.        , 0.59636303, 0.37129019, 0.62897257, 0.93089865,\n",
       "         0.45830916, 0.70322097, 0.72714049, 0.43401217, 0.75442138,\n",
       "         0.77110708, 0.20704629, 0.17031087, 0.10140339, 0.07576358,\n",
       "         0.36548939])),\n",
       " (1, 18): (array([0, 0]), array([1.        , 0.68704206])),\n",
       " (18,\n",
       "  1): (array([ 0,  0,  0,  1,  3,  1,  1,  4,  4,  4,  4,  4,  7,  7, 12, 12]), array([1.        , 0.63171447, 0.36582945, 0.70796684, 0.46249625,\n",
       "         0.45156859, 0.69287836, 0.89293583, 0.42762895, 0.74332574,\n",
       "         0.75976604, 0.20400116, 0.54113635, 0.8178669 , 0.07464929,\n",
       "         0.36011396])),\n",
       " (1, 14): (array([1, 0, 4, 1, 3]),\n",
       "  array([0.30074302, 1.        , 0.03303245, 0.62007703, 0.10258214])),\n",
       " (14, 1): (array([0, 0, 0, 1, 3, 1, 1, 4, 1, 1, 1, 1, 1, 4, 4, 7]),\n",
       "  array([1.        , 0.47074587, 0.67683741, 0.98232425, 0.83017386,\n",
       "         0.41773361, 0.6409626 , 0.75213006, 0.39558771, 0.68763008,\n",
       "         0.70283854, 0.37743166, 0.97427374, 0.75658604, 0.06905599,\n",
       "         0.33313146])),\n",
       " (1, 13): (array([1, 0]), array([0.49594167, 1.        ])),\n",
       " (13,\n",
       "  1): (array([ 0,  0,  1,  1,  3,  1,  3,  4,  4,  4,  7,  4, 10,  4, 10, 12]), array([1.        , 0.93706745, 0.77675017, 0.79196217, 0.73415506,\n",
       "         0.47939823, 0.73557964, 0.82129647, 0.45398322, 0.78913603,\n",
       "         0.19282944, 0.21657351, 0.50040055, 0.86827107, 0.07924984,\n",
       "         0.38230736])),\n",
       " (1, 12): (array([0]), array([1.])),\n",
       " (12,\n",
       "  1): (array([ 0,  0,  1,  1,  3,  3,  3,  4,  4,  7,  4,  4,  9,  4,  9, 12]), array([1.        , 0.9094053 , 0.39848231, 0.57280719, 0.96957266,\n",
       "         0.49187427, 0.75472264, 0.91095229, 0.46579785, 0.24010542,\n",
       "         0.82758051, 0.2222097 , 0.53944754, 0.89086728, 0.08131227,\n",
       "         0.39225667])),\n",
       " (1, 11): (array([2, 0, 1]), array([0.40420509, 1.        , 0.72807059])),\n",
       " (11, 1): (array([1, 0, 3, 1, 3, 3, 3, 4, 4, 4, 4, 4, 4, 4, 4, 7]),\n",
       "  array([0.88734195, 1.        , 0.32421766, 0.53574644, 0.98965299,\n",
       "         0.40020429, 0.61406594, 0.67860555, 0.75797538, 0.65877511,\n",
       "         0.67334538, 0.18079676, 0.93339036, 0.72483747, 0.0661582 ,\n",
       "         0.31915229])),\n",
       " (1, 9): (array([0, 0, 0, 0]),\n",
       "  array([1.        , 0.51103348, 0.91558116, 0.95381477])),\n",
       " (9, 1): (array([1, 0, 1, 1, 3, 1, 1, 4, 1, 4, 4, 4, 7, 7, 7, 7]),\n",
       "  array([0.92820076, 1.        , 0.33914669, 0.97619513, 0.82156631,\n",
       "         0.41863221, 0.6423414 , 0.98173782, 0.39643867, 0.68910927,\n",
       "         0.70435044, 0.18912179, 0.97636954, 0.75821356, 0.06920454,\n",
       "         0.33384807])),\n",
       " (1, 8): (array([1, 0, 1, 1]),\n",
       "  array([0.71796742, 1.        , 0.96062606, 0.09730199])),\n",
       " (8, 1): (array([0, 0, 0, 1, 3, 1, 4, 6, 1, 1, 1, 3, 3, 4, 4, 7]),\n",
       "  array([1.        , 0.54027114, 0.65823219, 0.19558728, 0.94408693,\n",
       "         0.40625076, 0.95065379, 0.70396672, 0.38471362, 0.6687282 ,\n",
       "         0.6835186 , 0.18352833, 0.94749247, 0.73578866, 0.06715775,\n",
       "         0.3239742 ])),\n",
       " (1, 7): (array([0, 3, 3, 0]),\n",
       "  array([1.        , 0.49838389, 0.27226382, 0.88423638])),\n",
       " (7, 1): (array([1, 0, 3, 1, 3, 3, 3, 4, 4, 4, 4, 4, 4, 4, 4, 7]),\n",
       "  array([0.88616686, 1.        , 0.32378831, 0.5390098 , 0.59793808,\n",
       "         0.7993486 , 0.61325274, 0.6763826 , 0.3784858 , 0.65790271,\n",
       "         0.67245368, 0.18055734, 0.93215429, 0.72387758, 0.06607059,\n",
       "         0.31872964])),\n",
       " (1, 6): (array([0, 0, 0, 2]),\n",
       "  array([1.        , 0.10904611, 0.48138748, 0.0953406 ])),\n",
       " (6, 1): (array([1, 0, 3, 1, 3, 4, 4, 4, 4, 4, 4, 4, 4, 4, 4, 7]),\n",
       "  array([0.92815759, 1.        , 0.33913091, 0.42239657, 0.92869054,\n",
       "         0.83722548, 0.64231152, 0.75581746, 0.79284047, 0.68907721,\n",
       "         0.70431768, 0.18911299, 0.97632412, 0.75817829, 0.06920132,\n",
       "         0.33383255])),\n",
       " (1, 5): (array([0, 2, 0]), array([1.        , 0.21666805, 0.66213337])),\n",
       " (5,\n",
       "  1): (array([ 1,  0,  1,  1,  3,  1,  3,  4,  3,  3,  3,  4,  7,  4,  4, 12]), array([0.99685102, 1.        , 0.36423017, 0.96820763, 0.45026684,\n",
       "         0.89918898, 0.68984934, 0.93434882, 0.85151901, 0.74007618,\n",
       "         0.7564446 , 0.20310934, 0.40712205, 0.81429147, 0.07432295,\n",
       "         0.35853967])),\n",
       " (1, 4): (array([4, 0, 4, 5, 1, 4]),\n",
       "  array([0.40052973, 1.        , 0.30718343, 0.10280875, 0.46023864,\n",
       "         0.22979966])),\n",
       " (4,\n",
       "  1): (array([ 0,  0,  0,  1,  3,  1,  4,  6,  1,  1,  7,  1,  1,  4,  6, 10]), array([1.        , 0.66671298, 0.62439591, 0.99817891, 0.93529737,\n",
       "         0.38536753, 0.15944653, 0.91313962, 0.3649375 , 0.63435237,\n",
       "         0.60408532, 0.34818818, 0.89878682, 0.6979656 , 0.06370552,\n",
       "         0.30732037])),\n",
       " (1, 3): (array([0, 0, 0, 1, 0, 0, 1, 3, 3, 8]),\n",
       "  array([1.        , 0.28949112, 0.46202508, 0.83281111, 0.79703906,\n",
       "         0.52140711, 0.0368979 , 0.33518026, 0.97101249, 0.68206523])),\n",
       " (3, 1): (array([0, 0, 0, 1, 3, 1, 4, 6, 1, 1, 1, 4, 4, 6, 7, 7]),\n",
       "  array([1.        , 0.75923848, 0.59963576, 0.89034331, 0.86960988,\n",
       "         0.37008594, 0.67659556, 0.87060165, 0.35046605, 0.60919739,\n",
       "         0.62267114, 0.33438093, 0.86314581, 0.67028808, 0.06117931,\n",
       "         0.29513371])),\n",
       " (1, 2): (array([2, 2, 0, 2, 3, 3, 4, 4, 6]),\n",
       "  array([0.93093279, 0.80164699, 1.        , 0.95979692, 0.45169178,\n",
       "         0.51241653, 0.81018958, 0.33016469, 0.39993651])),\n",
       " (2,\n",
       "  1): (array([ 0,  0,  0,  0,  1,  1,  4,  6,  1,  1,  4,  4,  7, 12, 12, 13]), array([1.        , 0.80587491, 0.5872496 , 0.99964903, 0.64736144,\n",
       "         0.3624414 , 0.75580983, 0.64356328, 0.34322678, 0.59661373,\n",
       "         0.60980917, 0.32747391, 0.41238671, 0.60192243, 0.11983116,\n",
       "         0.28903739])),\n",
       " (32,\n",
       "  34): (array([ 0,  0,  0,  2,  3,  7, 11,  3,  7, 11, 11,  8, 11, 12, 12, 12, 15]), array([1.        , 0.59520543, 0.9317442 , 0.74874293, 0.40579171,\n",
       "         0.4020325 , 0.2938167 , 0.69854016, 0.9525868 , 0.86438114,\n",
       "         0.70244178, 0.61119908, 0.65236828, 0.31062005, 0.83223901,\n",
       "         0.76726981, 0.27580372])),\n",
       " (34, 32): (array([4, 4, 5, 5, 0, 4]),\n",
       "  array([0.34719995, 0.08943382, 0.38283285, 0.69972104, 1.        ,\n",
       "         0.84629936])),\n",
       " (32, 33): (array([ 0,  0,  1,  1, 10, 10, 10,  1, 10, 10,  7, 10]),\n",
       "  array([1.        , 0.94126199, 0.27385365, 0.64525801, 0.43456876,\n",
       "         0.02797858, 0.30967312, 0.8055383 , 0.87272685, 0.98112202,\n",
       "         0.66020244, 0.43235393])),\n",
       " (33, 32): (array([4, 4, 5, 5, 0, 4]),\n",
       "  array([0.36869881, 0.09497163, 0.40653812, 0.37152412, 1.        ,\n",
       "         0.65102004])),\n",
       " (32, 29): (array([0, 2, 0]), array([1.        , 0.49168336, 0.93942458])),\n",
       " (29, 32): (array([4, 5, 5, 5, 0, 4]),\n",
       "  array([0.44882359, 0.11561064, 0.49488606, 0.90452579, 1.        ,\n",
       "         0.79500721])),\n",
       " (32, 26): (array([1, 0, 1]), array([0.4222803 , 1.        , 0.40249177])),\n",
       " (26, 32): (array([4, 4, 0, 5, 2, 4]),\n",
       "  array([0.53663053, 0.27645695, 1.        , 0.54074269, 0.81659088,\n",
       "         0.90376083])),\n",
       " (32, 25): (array([0, 0, 0]), array([1.        , 0.20059797, 0.11599298])),\n",
       " (25, 32): (array([4, 4, 0, 5, 2, 4]),\n",
       "  array([0.53663053, 0.27645695, 1.        , 0.54074269, 0.81659088,\n",
       "         0.90376083])),\n",
       " (22, 2): (array([0, 0, 0, 2, 3, 3, 4, 3, 6]),\n",
       "  array([1.        , 0.67674701, 0.7514739 , 0.64758382, 0.97280474,\n",
       "         0.43257988, 0.86577914, 0.55744728, 0.67524944])),\n",
       " (2, 22): (array([1, 0]), array([0.34741211, 1.        ])),\n",
       " (20,\n",
       "  34): (array([ 0,  0,  0,  2,  2,  3,  7,  3,  7,  7,  7,  8,  7, 11, 11, 11, 11]), array([1.        , 0.65116494, 0.73729274, 0.99912602, 0.44394308,\n",
       "         0.43983043, 0.642881  , 0.76028173, 0.9799773 , 0.94564776,\n",
       "         0.76848334, 0.51247617, 0.95301987, 0.33982366, 0.91048373,\n",
       "         0.81584472, 0.150867  ])),\n",
       " (34, 20): (array([1, 0, 1]), array([0.80304623, 1.        , 0.70769679])),\n",
       " (20, 2): (array([0, 0, 0, 2, 3, 6, 4, 6, 6]),\n",
       "  array([1.        , 0.61449176, 0.95832013, 0.95597902, 0.42621066,\n",
       "         0.39278603, 0.42102247, 0.25308332, 0.61313195])),\n",
       " (2, 20): (array([1, 0, 1]), array([0.97566497, 1.        , 0.21495492])),\n",
       " (18, 2): (array([0, 0, 0, 2, 3, 0, 4, 3, 6]),\n",
       "  array([1.        , 0.66537238, 0.93864837, 0.85331226, 0.92283841,\n",
       "         0.85061832, 0.83441949, 0.27403891, 0.66389998])),\n",
       " (2, 18): (array([0, 0]), array([1.        , 0.68704206])),\n",
       " (14,\n",
       "  34): (array([ 0,  0,  0,  2,  2,  2,  3,  3,  7,  3,  3,  8,  7,  8, 11, 11, 11]), array([1.        , 0.61592041, 0.85976255, 0.57547692, 0.4199145 ,\n",
       "         0.41602446, 0.30404242, 0.94843973, 0.65630895, 0.89446425,\n",
       "         0.72688891, 0.94680625, 0.90143734, 0.32143058, 0.86120348,\n",
       "         0.77168684, 0.14270127])),\n",
       " (34, 14): (array([4, 0, 4, 4, 1]),\n",
       "  array([0.18318667, 1.        , 0.02012051, 0.92432681, 0.73354316])),\n",
       " (14, 4): (array([1, 0, 4, 5, 1, 4]),\n",
       "  array([0.51270729, 1.        , 0.39321721, 0.06580135, 0.51628578,\n",
       "         0.50843197])),\n",
       " (4, 14): (array([1, 0, 4, 1, 3]),\n",
       "  array([0.30074302, 1.        , 0.03303245, 0.62007703, 0.10258214])),\n",
       " (14, 3): (array([0, 0, 0, 0, 0, 0, 1, 8, 1, 8]),\n",
       "  array([1.        , 0.25752414, 0.52276094, 0.86365058, 0.45090722,\n",
       "         0.58994909, 0.04174834, 0.37924164, 0.60935512, 0.77172665])),\n",
       " (3, 14): (array([1, 0, 4, 1, 3]),\n",
       "  array([0.30074302, 1.        , 0.03303245, 0.62007703, 0.10258214])),\n",
       " (14, 2): (array([0, 0, 1, 2, 3, 2, 2, 4, 4]),\n",
       "  array([1.        , 0.78145525, 0.73213918, 0.76218582, 0.45605722,\n",
       "         0.33536389, 0.92297558, 0.21608459, 0.52349702])),\n",
       " (2, 14): (array([1, 0, 4, 1, 3]),\n",
       "  array([0.30074302, 1.        , 0.03303245, 0.62007703, 0.10258214])),\n",
       " (13, 4): (array([4, 0, 4, 4, 1, 4]),\n",
       "  array([0.53863265, 1.        , 0.20655024, 0.06912864, 0.96466395,\n",
       "         0.75778906])),\n",
       " (4, 13): (array([1, 0]), array([0.49594167, 1.        ])),\n",
       " (11, 6): (array([0, 0, 0, 2]),\n",
       "  array([1.        , 0.05527652, 0.50185896, 0.09665813])),\n",
       " (6, 11): (array([2, 2, 0]), array([0.51294296, 0.80704976, 1.        ])),\n",
       " (11, 5): (array([0, 2, 0]), array([1.        , 0.11239267, 0.61201123])),\n",
       " (5, 11): (array([1, 0, 1]), array([0.51864003, 1.        , 0.84933325])),\n",
       " (9,\n",
       "  34): (array([ 0,  0,  0,  2,  0,  0,  3,  3,  7,  3,  3,  8,  7,  8, 11, 11, 11]), array([1.        , 0.60028321, 0.61376663, 0.42067304, 0.40925357,\n",
       "         0.40546229, 0.29632329, 0.88572032, 0.65178295, 0.87175528,\n",
       "         0.70843441, 0.98568168, 0.87855134, 0.31326999, 0.83933895,\n",
       "         0.75209499, 0.27815664])),\n",
       " (34, 9): (array([2, 3, 0, 2]),\n",
       "  array([0.67424601, 0.21274917, 1.        , 0.80108577])),\n",
       " (9, 33): (array([ 0,  0,  0,  1,  1,  1,  1,  1,  1,  7,  7, 10]),\n",
       "  array([1.        , 0.87034471, 0.24388686, 0.57464981, 0.38701551,\n",
       "         0.02491698, 0.27578674, 0.88263538, 0.77722757, 0.87376146,\n",
       "         0.98886793, 0.38504304])),\n",
       " (33, 9): (array([2, 3, 0, 2]),\n",
       "  array([0.64019574, 0.40401013, 1.        , 0.91213372])),\n",
       " (9, 3): (array([0, 0, 0, 0, 0, 0, 8, 9, 0, 8]),\n",
       "  array([1.        , 0.79234187, 0.25784366, 0.85196428, 0.88961174,\n",
       "         0.58196632, 0.02059172, 0.37411002, 0.35592312, 0.89667842])),\n",
       " (3, 9): (array([0, 2, 0, 2]),\n",
       "  array([1.        , 0.41584787, 0.68209229, 0.77615626])),\n",
       " (8, 4): (array([1, 0, 1, 4, 1, 4]),\n",
       "  array([0.57559206, 1.        , 0.44144624, 0.14774409, 0.77020607,\n",
       "         0.80978635])),\n",
       " (4, 8): (array([1, 0, 1, 1]),\n",
       "  array([0.71796742, 1.        , 0.96062606, 0.09730199])),\n",
       " (8, 3): (array([0, 0, 0, 1, 0, 0, 1, 8, 3, 8]),\n",
       "  array([1.        , 0.50039114, 0.48212831, 0.99958103, 0.41585956,\n",
       "         0.54409412, 0.01925169, 0.34976433, 0.4065378 , 0.71174266])),\n",
       " (3, 8): (array([1, 0, 1, 1]),\n",
       "  array([0.71796742, 1.        , 0.96062606, 0.09730199])),\n",
       " (8, 2): (array([0, 0, 0, 2, 2, 3, 3, 3, 3]),\n",
       "  array([1.        , 0.99957174, 0.83965037, 0.39162617, 0.81755181,\n",
       "         0.31946548, 0.8792206 , 0.20584079, 0.49867989])),\n",
       " (2, 8): (array([1, 0, 1, 1]),\n",
       "  array([0.71796742, 1.        , 0.96062606, 0.09730199])),\n",
       " (7, 17): (array([1, 0]), array([0.20245015, 1.        ])),\n",
       " (17, 7): (array([3, 3, 3, 0]),\n",
       "  array([0.42052596, 0.1878385 , 0.20522985, 1.        ])),\n",
       " (7, 6): (array([0, 0, 0, 0]),\n",
       "  array([1.        , 0.12820217, 0.81476641, 0.22417805])),\n",
       " (6, 7): (array([3, 3, 3, 0]),\n",
       "  array([0.76104239, 0.16996937, 0.18570628, 1.        ])),\n",
       " (7, 5): (array([0, 0, 0]), array([1.        , 0.28543164, 0.95210516])),\n",
       " (5, 7): (array([0, 3, 3, 0]),\n",
       "  array([1.        , 0.51594297, 0.14092811, 0.84492576])),\n",
       " (6, 17): (array([1, 0]), array([0.20245015, 1.        ])),\n",
       " (17, 6): (array([0, 0, 0, 2]),\n",
       "  array([1.        , 0.19848815, 0.60853877, 0.34708215])),\n",
       " (4, 3): (array([0, 0, 0, 1, 0, 0, 1, 8, 3, 8]),\n",
       "  array([1.        , 0.509037  , 0.48120191, 0.99189596, 0.4150605 ,\n",
       "         0.54304866, 0.03842939, 0.34909227, 0.40191371, 0.71037507])),\n",
       " (3, 4): (array([1, 0, 4, 5, 1, 4]),\n",
       "  array([0.50714548, 1.        , 0.38895162, 0.13017509, 0.54322892,\n",
       "         0.55715616])),\n",
       " (4, 2): (array([0, 2, 0, 2, 3, 3, 3, 3, 4]),\n",
       "  array([1.        , 0.91633289, 0.93588532, 0.52485683, 0.95609374,\n",
       "         0.29286215, 0.80600394, 0.1886995 , 0.45715257])),\n",
       " (2, 4): (array([1, 0, 4, 5, 1, 4]),\n",
       "  array([0.50714548, 1.        , 0.38895162, 0.13017509, 0.54322892,\n",
       "         0.55715616])),\n",
       " (3, 10): (array([0, 0]), array([1.    , 0.7313])),\n",
       " (10, 3): (array([0, 0, 0, 1, 0, 3, 8, 8, 5, 8]),\n",
       "  array([1.        , 0.97982934, 0.33310114, 0.95622464, 0.57463249,\n",
       "         0.85559538, 0.02660187, 0.48330246, 0.35194276, 0.98348215])),\n",
       " (3, 33): (array([ 0,  0,  0,  1,  1,  1,  1,  1,  1,  1,  7, 10]),\n",
       "  array([1.        , 0.83562058, 0.24786345, 0.5840195 , 0.39332582,\n",
       "         0.02532326, 0.28028345, 0.86227316, 0.78990031, 0.88800818,\n",
       "         0.82563593, 0.19566059])),\n",
       " (33, 3): (array([0, 0, 0, 0, 3, 8, 9, 9, 4, 8]),\n",
       "  array([1.        , 0.9472306 , 0.3082475 , 0.78969988, 0.77119174,\n",
       "         0.69573038, 0.02461703, 0.44724187, 0.70767674, 0.29206232])),\n",
       " (3, 29): (array([0, 0, 0]), array([1.        , 0.23861459, 0.70259074])),\n",
       " (29, 3): (array([0, 0, 0, 0, 8, 8, 8, 8, 0, 8]),\n",
       "  array([1.        , 0.92160762, 0.29990928, 0.99095707, 0.51737324,\n",
       "         0.67691059, 0.02395113, 0.43514379, 0.88558276, 0.88548308])),\n",
       " (3, 28): (array([3, 3, 3, 0]),\n",
       "  array([0.77447063, 0.47229578, 0.30519491, 1.        ])),\n",
       " (28, 3): (array([0, 0, 0, 1, 0, 3, 9, 9, 3, 8]),\n",
       "  array([1.        , 0.89649277, 0.34229251, 0.8446434 , 0.59048851,\n",
       "         0.7725717 , 0.02733591, 0.99327676, 0.94107241, 0.03123237])),\n",
       " (3, 2): (array([0, 2, 0, 2, 3, 3, 3, 3, 4]),\n",
       "  array([1.        , 0.91633289, 0.93588532, 0.52485683, 0.95609374,\n",
       "         0.29286215, 0.80600394, 0.1886995 , 0.45715257])),\n",
       " (2, 3): (array([0, 0, 0, 1, 0, 0, 1, 8, 3, 8]),\n",
       "  array([1.        , 0.509037  , 0.48120191, 0.99189596, 0.4150605 ,\n",
       "         0.54304866, 0.03842939, 0.34909227, 0.40191371, 0.71037507])),\n",
       " (2, 31): (array([0, 0, 0]), array([1.        , 0.65630746, 0.87271346])),\n",
       " (31, 2): (array([3, 3, 0, 2, 3, 4, 4, 8, 6]),\n",
       "  array([0.82142662, 0.70734879, 1.        , 0.8461932 , 0.55648319,\n",
       "         0.45214068, 0.9472584 , 0.29132723, 0.70289422])),\n",
       " (31,\n",
       "  34): (array([ 0,  0,  0,  2,  3,  7,  8,  3,  7,  8, 11,  8, 11, 11, 11, 14, 14]), array([1.        , 0.62400563, 0.83166752, 0.59142439, 0.42542675,\n",
       "         0.42148564, 0.30803361, 0.44201848, 0.61158368, 0.90620594,\n",
       "         0.73643083, 0.9910507 , 0.91327057, 0.32565002, 0.81598296,\n",
       "         0.78181682, 0.28914904])),\n",
       " (34, 31): (array([2, 0, 1]), array([0.58163974, 1.        , 0.96195803])),\n",
       " (31, 33): (array([ 0,  0,  1,  1,  7,  9, 10,  1, 10,  7,  9, 10]),\n",
       "  array([1.        , 0.86363221, 0.29393341, 0.69257023, 0.46643263,\n",
       "         0.03003005, 0.33237927, 0.49798801, 0.93671775, 0.80224013,\n",
       "         0.66608853, 0.46405539])),\n",
       " (33, 31): (array([2, 0, 1]), array([0.58163974, 1.        , 0.96195803])),\n",
       " (10,\n",
       "  34): (array([ 0,  0,  1,  2,  0,  3,  3,  3,  7,  3,  7,  8,  7, 11, 11, 11, 11]), array([1.        , 0.98362334, 0.70607228, 0.43647322, 0.43549638,\n",
       "         0.43146199, 0.31532461, 0.99724638, 0.86619912, 0.92765537,\n",
       "         0.75386177, 0.42661943, 0.93488722, 0.33335799, 0.89316038,\n",
       "         0.80032203, 0.14799652])),\n",
       " (34, 10): (array([1, 0]), array([0.60502158, 1.        ])),\n",
       " (33,\n",
       "  34): (array([ 0,  0,  0,  0,  3,  3,  7,  3,  7,  8,  7,  9,  8,  8, 11, 14, 15]), array([1.        , 0.40888225, 0.8126744 , 0.75459036, 0.55752524,\n",
       "         0.55236039, 0.20184028, 0.38541591, 0.85458689, 0.9864365 ,\n",
       "         0.48254932, 0.79884619, 0.59842428, 0.42676703, 0.35747305,\n",
       "         0.21404344, 0.18946609])),\n",
       " (34, 33): (array([ 1,  0,  1,  1,  1,  9, 10,  1,  7,  8,  9, 10]),\n",
       "  array([0.67196115, 1.        , 0.34761955, 0.81906631, 0.55162528,\n",
       "         0.03551496, 0.39308744, 0.79604357, 0.3421972 , 0.23439048,\n",
       "         0.95347605, 0.27440693])),\n",
       " (33, 15): (array([1, 0]), array([0.19206638, 1.        ])),\n",
       " (15, 33): (array([ 0,  0,  1,  1,  1,  9, 10,  1, 10,  7,  9, 10]),\n",
       "  array([1.        , 0.78689013, 0.6275671 , 0.73934142, 0.49793212,\n",
       "         0.03205806, 0.35482577, 0.38223897, 0.9999769 , 0.06990463,\n",
       "         0.91366968, 0.49539434])),\n",
       " (33, 16): (array([0, 0]), array([1.        , 0.99287252])),\n",
       " (16, 33): (array([ 0,  0,  1,  1,  1,  7, 10,  3, 10,  7,  9, 10]),\n",
       "  array([1.        , 0.82843744, 0.3030369 , 0.5916963 , 0.48087864,\n",
       "         0.03096012, 0.34267348, 0.16365627, 0.9657291 , 0.86530742,\n",
       "         0.779632  , 0.47842778])),\n",
       " (33, 19): (array([1, 0]), array([0.81624428, 1.        ])),\n",
       " (19, 33): (array([ 0,  0,  1,  1,  1,  7, 10,  1, 10,  7,  9, 10]),\n",
       "  array([1.        , 0.80522481, 0.30904109, 0.72816718, 0.98081296,\n",
       "         0.03157354, 0.34946301, 0.2857792 , 0.98486347, 0.96170566,\n",
       "         0.85451933, 0.48790706])),\n",
       " (33, 21): (array([1, 0]), array([0.02621277, 1.        ])),\n",
       " (21, 33): (array([ 0,  0,  1,  1,  1,  9, 10,  1,  7,  8,  9, 10]),\n",
       "  array([1.        , 0.75772509, 0.32132739, 0.75711634, 0.50990318,\n",
       "         0.06565757, 0.36335633, 0.56850668, 0.22462179, 0.20060389,\n",
       "         0.98374247, 0.50730439])),\n",
       " (33, 23): (array([1, 0]), array([0.25672894, 1.        ])),\n",
       " (23, 33): (array([ 0,  0,  1,  1,  1, 10, 10,  1, 10,  7,  9, 10]),\n",
       "  array([1.        , 0.79102505, 0.31271401, 0.73682136, 0.4962349 ,\n",
       "         0.03194879, 0.70723266, 0.71410127, 0.99656846, 0.40624006,\n",
       "         0.28589495, 0.49370578])),\n",
       " (33, 24): (array([3, 4, 4, 0, 3]),\n",
       "  array([0.739196  , 0.44049398, 0.34901883, 1.        , 0.67071037])),\n",
       " (24, 33): (array([ 0,  0,  1,  1,  7,  8, 10,  1,  7, 10,  8, 10]),\n",
       "  array([1.        , 0.96008218, 0.26898562, 0.63378787, 0.42684385,\n",
       "         0.02748123, 0.30416836, 0.88009928, 0.20330281, 0.96368154,\n",
       "         0.46139516, 0.42466838])),\n",
       " (33, 30): (array([2, 3, 0, 2]),\n",
       "  array([0.5779317 , 0.29636602, 1.        , 0.4157685 ])),\n",
       " (30, 33): (array([ 0,  0,  1,  1,  7,  8, 10,  1,  7, 10,  8, 10]),\n",
       "  array([1.        , 0.96008218, 0.26898562, 0.63378787, 0.42684385,\n",
       "         0.02748123, 0.30416836, 0.88009928, 0.20330281, 0.96368154,\n",
       "         0.46139516, 0.42466838])),\n",
       " (29,\n",
       "  34): (array([ 0,  0,  0,  2,  3,  7, 11,  3,  7, 11, 11,  8, 11, 12, 12, 12, 15]), array([1.        , 0.60007315, 0.91482956, 0.72215345, 0.40911036,\n",
       "         0.4053204 , 0.2962196 , 0.65518369, 0.89495154, 0.87145023,\n",
       "         0.7081865 , 0.54259366, 0.5513867 , 0.31316037, 0.83904524,\n",
       "         0.64269327, 0.13902965])),\n",
       " (34, 29): (array([0, 2, 0]), array([1.        , 0.49168336, 0.93942458])),\n",
       " (28,\n",
       "  34): (array([ 0,  2,  0,  2,  7,  9, 11,  3,  7,  8, 11,  9, 11, 11, 11, 11, 11]), array([1.        , 0.55572241, 0.6246646 , 0.96441545, 0.37887347,\n",
       "         0.37536362, 0.27432634, 0.42908658, 0.79544139, 0.54303478,\n",
       "         0.65584523, 0.55358653, 0.81333388, 0.29001504, 0.77703234,\n",
       "         0.69626476, 0.12875413])),\n",
       " (34, 28): (array([3, 3, 3, 0]),\n",
       "  array([0.23709135, 0.5783421 , 0.18686073, 1.        ])),\n",
       " (28, 24): (array([4, 4, 4, 4, 0]),\n",
       "  array([0.82666774, 0.98523846, 0.19515975, 0.88912759, 1.        ])),\n",
       " (24, 28): (array([3, 3, 3, 0]),\n",
       "  array([0.23709135, 0.5783421 , 0.18686073, 1.        ])),\n",
       " (28, 25): (array([0, 0, 0]), array([1.        , 0.66832686, 0.09661268])),\n",
       " (25, 28): (array([3, 3, 3, 0]),\n",
       "  array([0.39534386, 0.48218545, 0.62317113, 1.        ])),\n",
       " (34, 15): (array([1, 0]), array([0.19206638, 1.        ])),\n",
       " (15,\n",
       "  34): (array([ 0,  0,  0,  2,  3,  3,  3,  3,  7,  3,  3,  8,  3,  8, 11, 11, 11]), array([1.        , 0.59424212, 0.93509157, 0.75400494, 0.40513495,\n",
       "         0.40138183, 0.29334117, 0.93665075, 0.59490495, 0.86298217,\n",
       "         0.70130491, 0.94557087, 0.86970984, 0.31011733, 0.83089207,\n",
       "         0.74452611, 0.27535735])),\n",
       " (34, 16): (array([0, 0]), array([1.        , 0.99287252])),\n",
       " (16,\n",
       "  34): (array([ 0,  0,  0,  2,  0,  3,  7,  3,  7,  7,  7,  8,  8, 11, 11, 11, 11]), array([1.        , 0.64085955, 0.8992681 , 0.62552694, 0.8738344 ,\n",
       "         0.43286965, 0.31635336, 0.42211475, 0.97175444, 0.93068187,\n",
       "         0.75632127, 0.58954077, 0.93793731, 0.33444558, 0.89607435,\n",
       "         0.8029331 , 0.29695873])),\n",
       " (34, 19): (array([1, 0]), array([0.81624428, 1.        ])),\n",
       " (19,\n",
       "  34): (array([ 0,  0,  0,  2,  3,  3,  7,  3,  7,  7,  7,  8,  8, 11, 11, 11, 11]), array([1.        , 0.64101217, 0.77257217, 0.49852767, 0.43702125,\n",
       "         0.86594547, 0.3164287 , 0.42459676, 0.97341475, 0.93090351,\n",
       "         0.75650138, 0.59063376, 0.93816068, 0.33452523, 0.89628774,\n",
       "         0.80312432, 0.29702945])),\n",
       " (34, 21): (array([1, 0]), array([0.02621277, 1.        ])),\n",
       " (21,\n",
       "  34): (array([ 0,  0,  0,  2,  3,  7,  7,  3,  7,  7,  7,  8,  7, 11, 11, 11, 11]), array([1.        , 0.60491727, 0.89799692, 0.69569289, 0.41241292,\n",
       "         0.40859237, 0.29861084, 0.61203741, 0.69541354, 0.87848505,\n",
       "         0.71390337, 0.33213869, 0.88533357, 0.31568837, 0.84581847,\n",
       "         0.757901  , 0.28030395])),\n",
       " (34, 23): (array([1, 0]), array([0.25672894, 1.        ])),\n",
       " (23,\n",
       "  34): (array([ 0,  0,  0,  2,  3,  7,  8,  3,  7,  8,  8,  8,  8, 11, 11, 11, 11]), array([1.        , 0.60500889, 0.89767855, 0.69519241, 0.41247539,\n",
       "         0.40865426, 0.29865607, 0.61122134, 0.83651087, 0.87861811,\n",
       "         0.7140115 , 0.33279485, 0.88546767, 0.31573619, 0.84594658,\n",
       "         0.7580158 , 0.28034641])),\n",
       " (34, 24): (array([3, 4, 4, 0, 3]),\n",
       "  array([0.6793464 , 0.80965806, 0.32076024, 1.        , 0.85930318])),\n",
       " (24,\n",
       "  34): (array([ 0,  3,  0,  2,  7,  9, 11,  3,  7,  8, 11,  9, 11, 11, 11, 11, 11]), array([1.        , 0.54236215, 0.65772939, 0.57975687, 0.36976487,\n",
       "         0.36633941, 0.26773119, 0.5389771 , 0.9446068 , 0.72230962,\n",
       "         0.64007788, 0.78069022, 0.79378031, 0.56608542, 0.7583515 ,\n",
       "         0.67952567, 0.25131743])),\n",
       " (34, 30): (array([2, 3, 0, 2]),\n",
       "  array([0.53806561, 0.55184501, 1.        , 0.59403041])),\n",
       " (30,\n",
       "  34): (array([ 0,  0,  0,  2,  3,  8,  9,  3,  7,  8,  9, 10,  9, 10, 11, 11, 11]), array([1.        , 0.58621937, 0.9629695 , 0.7978285 , 0.3996653 ,\n",
       "         0.39596285, 0.28938083, 0.77857848, 0.45494734, 0.73784825,\n",
       "         0.88783693, 0.89230248, 0.85796805, 0.61186099, 0.81967435,\n",
       "         0.7344744 , 0.2716398 ])),\n",
       " (34, 27): (array([1, 0]), array([0.37944941, 1.        ])),\n",
       " (27,\n",
       "  34): (array([ 0,  0,  0,  2,  3,  7,  8,  3,  7, 10,  8, 10, 10, 10, 11, 11, 11]), array([1.        , 0.6223583 , 0.83739179, 0.60042283, 0.42430365,\n",
       "         0.42037294, 0.30722042, 0.45669122, 0.63108866, 0.90381361,\n",
       "         0.92128734, 0.98806011, 0.91085959, 0.64958065, 0.87020518,\n",
       "         0.77975287, 0.14419285])),\n",
       " (24, 30): (array([2, 3, 0, 2]),\n",
       "  array([0.5779317 , 0.29636602, 1.        , 0.4157685 ])),\n",
       " (30, 24): (array([3, 4, 4, 0, 3]),\n",
       "  array([0.739196  , 0.44049398, 0.34901883, 1.        , 0.67071037])),\n",
       " (24, 26): (array([0, 0, 1]), array([1.        , 0.81238516, 0.28299047])),\n",
       " (26, 24): (array([0, 0, 4, 0, 3]),\n",
       "  array([1.        , 0.57520144, 0.22787614, 0.49429951, 0.45611943])),\n",
       " (30, 27): (array([1, 0]), array([0.37944941, 1.        ])),\n",
       " (27, 30): (array([3, 3, 0, 2]),\n",
       "  array([0.38474271, 0.78919129, 1.        , 0.66435908])),\n",
       " (26, 25): (array([0, 0, 0]), array([1.        , 0.20059797, 0.11599298])),\n",
       " (25, 26): (array([1, 0, 1]), array([0.4222803 , 1.        , 0.40249177]))}"
      ]
     },
     "execution_count": 16,
     "metadata": {},
     "output_type": "execute_result"
    }
   ],
   "source": [
    "# 二阶随机游走（考虑p、q值）\n",
    "alias_edges"
   ]
  },
  {
   "cell_type": "markdown",
   "metadata": {},
   "source": [
    "## 生成一条随机游走序列"
   ]
  },
  {
   "cell_type": "code",
   "execution_count": 17,
   "metadata": {},
   "outputs": [],
   "source": [
    "def node2vec_walk(walk_length, start_node):\n",
    "    '''\n",
    "    从指定的起始节点，生成一个随机游走序列\n",
    "    '''\n",
    "    # 上一步计算出的alias table，完成O(1)的采样\n",
    "\n",
    "    walk = [start_node]\n",
    "\n",
    "    #  直到生成长度为walk_length的节点序列位为止\n",
    "    while len(walk) < walk_length:\n",
    "        cur = walk[-1]\n",
    "        # 对邻居节点排序，目的是和alias table计算时的顺序对应起来\n",
    "        cur_nbrs = sorted(G.neighbors(cur))\n",
    "        if len(cur_nbrs) > 0:\n",
    "            # 节点序列只有一个节点的情况\n",
    "            if len(walk) == 1:\n",
    "                walk.append(cur_nbrs[alias_draw(alias_nodes[cur][0], alias_nodes[cur][1])])\n",
    "            # 节点序列大于一个节点的情况\n",
    "            else:\n",
    "                # 看前一个节点,prev是论文中的节点t\n",
    "                prev = walk[-2]\n",
    "                next = cur_nbrs[alias_draw(alias_edges[(prev, cur)][0],\n",
    "                    alias_edges[(prev, cur)][1])]\n",
    "                walk.append(next)\n",
    "        else:\n",
    "            break\n",
    "\n",
    "    return walk"
   ]
  },
  {
   "cell_type": "code",
   "execution_count": 18,
   "metadata": {},
   "outputs": [
    {
     "data": {
      "text/plain": [
       "[3, 28, 3, 1, 3, 4, 3]"
      ]
     },
     "execution_count": 18,
     "metadata": {},
     "output_type": "execute_result"
    }
   ],
   "source": [
    "node2vec_walk(7, 3)"
   ]
  },
  {
   "cell_type": "markdown",
   "metadata": {},
   "source": [
    "## 采样得到所有随机游走序列"
   ]
  },
  {
   "cell_type": "code",
   "execution_count": 19,
   "metadata": {},
   "outputs": [],
   "source": [
    "def simulate_walks(num_walks, walk_length):\n",
    "    '''\n",
    "    图中每个节点作为起始节点，生成 num_walk 个随机游走序列\n",
    "    '''\n",
    "    walks = []\n",
    "    nodes = list(G.nodes())\n",
    "    print('Walk iteration:')\n",
    "    for walk_iter in range(num_walks):\n",
    "        print(str(walk_iter+1), '/', str(num_walks))\n",
    "        # 打乱节点顺序\n",
    "        random.shuffle(nodes)\n",
    "        for node in nodes:\n",
    "            walks.append(node2vec_walk(walk_length=walk_length, start_node=node))\n",
    "\n",
    "    return walks"
   ]
  },
  {
   "cell_type": "code",
   "execution_count": 20,
   "metadata": {},
   "outputs": [
    {
     "name": "stdout",
     "output_type": "stream",
     "text": [
      "Walk iteration:\n",
      "1 / 3\n",
      "2 / 3\n",
      "3 / 3\n"
     ]
    },
    {
     "data": {
      "text/plain": [
       "[[3, 33, 32, 34, 29, 32, 33],\n",
       " [26, 25, 26, 25, 26, 25, 26],\n",
       " [14, 4, 13, 4, 14, 34, 14],\n",
       " [19, 34, 32, 29, 34, 32, 34],\n",
       " [29, 34, 21, 34, 23, 34, 31],\n",
       " [4, 13, 4, 2, 4, 2, 4],\n",
       " [11, 5, 1, 4, 14, 4, 1],\n",
       " [17, 7, 17, 7, 17, 7, 17],\n",
       " [25, 26, 25, 26, 25, 26, 25],\n",
       " [18, 1, 18, 1, 20, 2, 8],\n",
       " [9, 33, 24, 34, 9, 1, 12],\n",
       " [32, 33, 23, 34, 29, 34, 15],\n",
       " [21, 34, 21, 34, 27, 34, 15],\n",
       " [31, 2, 20, 2, 4, 14, 4],\n",
       " [23, 34, 9, 34, 28, 24, 28],\n",
       " [1, 4, 13, 4, 13, 1, 5],\n",
       " [12, 1, 2, 20, 1, 13, 4],\n",
       " [22, 2, 20, 2, 1, 3, 29],\n",
       " [20, 2, 1, 20, 2, 1, 2],\n",
       " [30, 33, 3, 2, 22, 2, 8],\n",
       " [33, 9, 33, 9, 3, 33, 9],\n",
       " [28, 34, 21, 34, 30, 33, 24],\n",
       " [24, 34, 9, 34, 14, 34, 31],\n",
       " [27, 34, 15, 34, 27, 34, 32],\n",
       " [7, 17, 7, 17, 7, 1, 5],\n",
       " [13, 1, 5, 11, 5, 1, 9],\n",
       " [15, 34, 14, 34, 28, 34, 24],\n",
       " [34, 29, 32, 34, 32, 26, 25],\n",
       " [5, 11, 6, 11, 1, 3, 8],\n",
       " [2, 31, 34, 15, 34, 23, 34],\n",
       " [16, 34, 32, 33, 16, 33, 30],\n",
       " [6, 1, 12, 1, 12, 1, 9],\n",
       " [10, 3, 10, 3, 29, 34, 31],\n",
       " [8, 2, 14, 4, 2, 14, 34],\n",
       " [23, 33, 30, 33, 24, 34, 28],\n",
       " [31, 33, 3, 28, 3, 1, 4],\n",
       " [18, 1, 18, 1, 11, 6, 1],\n",
       " [29, 34, 23, 34, 21, 34, 19],\n",
       " [34, 23, 34, 28, 34, 28, 34],\n",
       " [28, 34, 32, 34, 24, 33, 30],\n",
       " [10, 34, 28, 34, 28, 34, 9],\n",
       " [27, 30, 33, 9, 3, 1, 5],\n",
       " [20, 1, 18, 1, 3, 2, 3],\n",
       " [3, 29, 3, 29, 3, 8, 3],\n",
       " [24, 26, 25, 26, 25, 26, 24],\n",
       " [1, 5, 1, 8, 1, 5, 11],\n",
       " [22, 2, 22, 2, 14, 34, 14],\n",
       " [19, 33, 24, 34, 21, 34, 31],\n",
       " [14, 2, 8, 3, 1, 5, 1],\n",
       " [16, 33, 31, 2, 4, 14, 2],\n",
       " [32, 26, 25, 26, 25, 26, 25],\n",
       " [2, 4, 14, 4, 14, 2, 4],\n",
       " [13, 1, 9, 33, 3, 8, 2],\n",
       " [6, 11, 6, 1, 7, 1, 12],\n",
       " [8, 2, 4, 13, 4, 2, 31],\n",
       " [4, 14, 34, 14, 34, 24, 28],\n",
       " [33, 3, 9, 34, 28, 34, 28],\n",
       " [9, 33, 24, 34, 28, 24, 34],\n",
       " [11, 6, 11, 6, 1, 9, 33],\n",
       " [5, 11, 6, 11, 6, 1, 8],\n",
       " [25, 26, 25, 26, 24, 34, 23],\n",
       " [17, 7, 17, 7, 17, 7, 17],\n",
       " [15, 34, 15, 34, 15, 33, 31],\n",
       " [30, 24, 28, 34, 24, 34, 32],\n",
       " [21, 33, 16, 34, 28, 34, 28],\n",
       " [12, 1, 12, 1, 3, 29, 34],\n",
       " [26, 24, 26, 24, 34, 15, 34],\n",
       " [7, 17, 7, 17, 7, 17, 7],\n",
       " [18, 1, 2, 20, 2, 18, 1],\n",
       " [10, 3, 1, 9, 1, 3, 33],\n",
       " [22, 2, 1, 6, 11, 6, 11],\n",
       " [21, 34, 16, 33, 31, 33, 9],\n",
       " [17, 7, 17, 7, 17, 6, 7],\n",
       " [31, 34, 15, 34, 14, 34, 15],\n",
       " [34, 9, 1, 18, 1, 13, 1],\n",
       " [2, 4, 14, 2, 8, 1, 3],\n",
       " [19, 34, 10, 3, 1, 2, 8],\n",
       " [7, 1, 3, 2, 14, 34, 15],\n",
       " [4, 13, 4, 13, 4, 13, 4],\n",
       " [23, 34, 24, 28, 34, 28, 24],\n",
       " [33, 16, 33, 32, 29, 34, 9],\n",
       " [12, 1, 9, 1, 5, 11, 5],\n",
       " [1, 20, 34, 21, 34, 32, 1],\n",
       " [8, 1, 2, 8, 2, 3, 1],\n",
       " [11, 1, 6, 1, 2, 4, 2],\n",
       " [6, 1, 5, 7, 17, 7, 17],\n",
       " [29, 3, 8, 3, 1, 8, 2],\n",
       " [20, 2, 1, 20, 2, 20, 2],\n",
       " [24, 33, 24, 30, 27, 34, 32],\n",
       " [30, 34, 21, 34, 24, 34, 29],\n",
       " [16, 34, 23, 34, 10, 34, 10],\n",
       " [14, 34, 23, 34, 15, 34, 28],\n",
       " [15, 33, 32, 34, 9, 33, 3],\n",
       " [13, 4, 14, 4, 13, 1, 2],\n",
       " [5, 1, 14, 2, 20, 2, 8],\n",
       " [28, 34, 28, 34, 29, 32, 1],\n",
       " [26, 25, 26, 25, 28, 34, 16],\n",
       " [25, 26, 32, 1, 3, 29, 3],\n",
       " [3, 8, 2, 20, 34, 28, 34],\n",
       " [27, 30, 33, 31, 33, 9, 33],\n",
       " [9, 34, 15, 34, 9, 1, 6],\n",
       " [32, 33, 23, 34, 28, 34, 21]]"
      ]
     },
     "execution_count": 20,
     "metadata": {},
     "output_type": "execute_result"
    }
   ],
   "source": [
    "# 测试\n",
    "simulate_walks(3, 7)"
   ]
  },
  {
   "cell_type": "code",
   "execution_count": 21,
   "metadata": {},
   "outputs": [
    {
     "data": {
      "text/plain": [
       "10"
      ]
     },
     "execution_count": 21,
     "metadata": {},
     "output_type": "execute_result"
    }
   ],
   "source": [
    "args.num_walks"
   ]
  },
  {
   "cell_type": "code",
   "execution_count": 22,
   "metadata": {},
   "outputs": [
    {
     "data": {
      "text/plain": [
       "80"
      ]
     },
     "execution_count": 22,
     "metadata": {},
     "output_type": "execute_result"
    }
   ],
   "source": [
    "args.walk_length"
   ]
  },
  {
   "cell_type": "code",
   "execution_count": 23,
   "metadata": {
    "scrolled": true
   },
   "outputs": [
    {
     "name": "stdout",
     "output_type": "stream",
     "text": [
      "Walk iteration:\n",
      "1 / 10\n",
      "2 / 10\n",
      "3 / 10\n",
      "4 / 10\n",
      "5 / 10\n",
      "6 / 10\n",
      "7 / 10\n",
      "8 / 10\n",
      "9 / 10\n",
      "10 / 10\n"
     ]
    }
   ],
   "source": [
    "# 生成训练用的随机游走序列\n",
    "walks = simulate_walks(args.num_walks, args.walk_length)"
   ]
  },
  {
   "cell_type": "code",
   "execution_count": 24,
   "metadata": {},
   "outputs": [
    {
     "data": {
      "text/plain": [
       "340"
      ]
     },
     "execution_count": 24,
     "metadata": {},
     "output_type": "execute_result"
    }
   ],
   "source": [
    "len(walks)"
   ]
  },
  {
   "cell_type": "code",
   "execution_count": 25,
   "metadata": {
    "scrolled": true
   },
   "outputs": [
    {
     "data": {
      "text/plain": [
       "[15,\n",
       " 34,\n",
       " 28,\n",
       " 34,\n",
       " 21,\n",
       " 34,\n",
       " 15,\n",
       " 34,\n",
       " 14,\n",
       " 2,\n",
       " 3,\n",
       " 2,\n",
       " 14,\n",
       " 2,\n",
       " 1,\n",
       " 2,\n",
       " 14,\n",
       " 4,\n",
       " 2,\n",
       " 1,\n",
       " 3,\n",
       " 2,\n",
       " 14,\n",
       " 4,\n",
       " 13,\n",
       " 4,\n",
       " 2,\n",
       " 4,\n",
       " 13,\n",
       " 4,\n",
       " 2,\n",
       " 1,\n",
       " 4,\n",
       " 14,\n",
       " 2,\n",
       " 1,\n",
       " 6,\n",
       " 1,\n",
       " 18,\n",
       " 2,\n",
       " 1,\n",
       " 4,\n",
       " 14,\n",
       " 2,\n",
       " 4,\n",
       " 14,\n",
       " 2,\n",
       " 1,\n",
       " 18,\n",
       " 1,\n",
       " 4,\n",
       " 14,\n",
       " 2,\n",
       " 3,\n",
       " 1,\n",
       " 20,\n",
       " 1,\n",
       " 9,\n",
       " 1,\n",
       " 3,\n",
       " 8,\n",
       " 2,\n",
       " 31,\n",
       " 33,\n",
       " 3,\n",
       " 9,\n",
       " 1,\n",
       " 6,\n",
       " 1,\n",
       " 11,\n",
       " 5,\n",
       " 11,\n",
       " 6,\n",
       " 11,\n",
       " 1,\n",
       " 5,\n",
       " 11,\n",
       " 6,\n",
       " 11,\n",
       " 5]"
      ]
     },
     "execution_count": 25,
     "metadata": {},
     "output_type": "execute_result"
    }
   ],
   "source": [
    "walks[0]"
   ]
  },
  {
   "cell_type": "code",
   "execution_count": 26,
   "metadata": {},
   "outputs": [],
   "source": [
    "# 将node的类型int转化为string\n",
    "walk_str = []\n",
    "for walk in walks:\n",
    "    tmp = []\n",
    "    for node in walk:\n",
    "        tmp.append(str(node))\n",
    "    walk_str.append(tmp)"
   ]
  },
  {
   "cell_type": "code",
   "execution_count": 27,
   "metadata": {},
   "outputs": [
    {
     "data": {
      "text/plain": [
       "340"
      ]
     },
     "execution_count": 27,
     "metadata": {},
     "output_type": "execute_result"
    }
   ],
   "source": [
    "len(walk_str)"
   ]
  },
  {
   "cell_type": "code",
   "execution_count": 28,
   "metadata": {
    "scrolled": true
   },
   "outputs": [
    {
     "data": {
      "text/plain": [
       "['21',\n",
       " '34',\n",
       " '10',\n",
       " '3',\n",
       " '1',\n",
       " '9',\n",
       " '1',\n",
       " '20',\n",
       " '2',\n",
       " '8',\n",
       " '3',\n",
       " '8',\n",
       " '3',\n",
       " '4',\n",
       " '13',\n",
       " '4',\n",
       " '2',\n",
       " '14',\n",
       " '2',\n",
       " '18',\n",
       " '2',\n",
       " '4',\n",
       " '14',\n",
       " '2',\n",
       " '20',\n",
       " '2',\n",
       " '1',\n",
       " '2',\n",
       " '31',\n",
       " '2',\n",
       " '3',\n",
       " '33',\n",
       " '9',\n",
       " '33',\n",
       " '19',\n",
       " '34',\n",
       " '23',\n",
       " '34',\n",
       " '21',\n",
       " '34',\n",
       " '21',\n",
       " '34',\n",
       " '24',\n",
       " '34',\n",
       " '28',\n",
       " '34',\n",
       " '28',\n",
       " '24',\n",
       " '33',\n",
       " '9',\n",
       " '34',\n",
       " '23',\n",
       " '34',\n",
       " '28',\n",
       " '34',\n",
       " '21',\n",
       " '34',\n",
       " '10',\n",
       " '34',\n",
       " '21',\n",
       " '34',\n",
       " '10',\n",
       " '34',\n",
       " '14',\n",
       " '1',\n",
       " '9',\n",
       " '34',\n",
       " '9',\n",
       " '33',\n",
       " '3',\n",
       " '33',\n",
       " '9',\n",
       " '33',\n",
       " '9',\n",
       " '34',\n",
       " '31',\n",
       " '33',\n",
       " '9',\n",
       " '34',\n",
       " '28']"
      ]
     },
     "execution_count": 28,
     "metadata": {},
     "output_type": "execute_result"
    }
   ],
   "source": [
    "walk_str[1]"
   ]
  },
  {
   "cell_type": "markdown",
   "metadata": {},
   "source": [
    "## 利用word2vec训练Node2Vec模型"
   ]
  },
  {
   "cell_type": "code",
   "execution_count": 30,
   "metadata": {},
   "outputs": [],
   "source": [
    "# 调用 gensim 包运行 word2vec\n",
    "model = Word2Vec(walk_str, vector_size=args.dimensions, window=args.window_size, min_count=0, sg=1, workers=args.workers)\n"
   ]
  },
  {
   "cell_type": "code",
   "execution_count": 31,
   "metadata": {},
   "outputs": [],
   "source": [
    "# 导出embedding文件\n",
    "model.wv.save_word2vec_format(args.output)"
   ]
  },
  {
   "cell_type": "markdown",
   "metadata": {},
   "source": [
    "## 结果分析和可视化"
   ]
  },
  {
   "cell_type": "markdown",
   "metadata": {},
   "source": [
    "### 查看 Node Embedding"
   ]
  },
  {
   "cell_type": "code",
   "execution_count": 32,
   "metadata": {},
   "outputs": [
    {
     "data": {
      "text/plain": [
       "(128,)"
      ]
     },
     "execution_count": 32,
     "metadata": {},
     "output_type": "execute_result"
    }
   ],
   "source": [
    "model.wv.get_vector('17').shape"
   ]
  },
  {
   "cell_type": "code",
   "execution_count": 33,
   "metadata": {},
   "outputs": [
    {
     "data": {
      "text/plain": [
       "array([ 0.30236664, -0.09780354,  0.12115858,  0.13065828, -0.232245  ,\n",
       "       -0.29873204,  0.11774212,  0.19754922, -0.20147781,  0.08265066,\n",
       "        0.24455565, -0.19564456, -0.17269269,  0.2932877 ,  0.33369648,\n",
       "       -0.22264047, -0.10537295, -0.09654865, -0.13396846, -0.02860372,\n",
       "        0.2120018 ,  0.1313933 , -0.01416228,  0.01220561, -0.19349113,\n",
       "        0.24429318, -0.1567784 ,  0.40082496,  0.08022721, -0.09719664,\n",
       "       -0.465937  ,  0.02281205,  0.21917747, -0.15867665, -0.06353302,\n",
       "       -0.24096176,  0.18889761,  0.06183004,  0.11935216,  0.14850563,\n",
       "       -0.05617385,  0.32109106, -0.17453972,  0.03433518,  0.15907413,\n",
       "        0.04823794, -0.1669492 ,  0.03049292,  0.1070277 ,  0.35327938,\n",
       "       -0.02979732,  0.16473056,  0.21975817,  0.04262974,  0.11843763,\n",
       "        0.21907449,  0.14196026, -0.0991497 , -0.12259814,  0.34525687,\n",
       "        0.18713032, -0.27455336,  0.07329775,  0.36861175,  0.13966943,\n",
       "       -0.07878511,  0.00446942, -0.12231281, -0.10443765, -0.28187144,\n",
       "        0.03228798, -0.00682744, -0.1260415 , -0.27122408,  0.23983158,\n",
       "       -0.26151338,  0.00889035, -0.01175355, -0.09469923,  0.11421635,\n",
       "       -0.0720776 , -0.20062698,  0.00343943,  0.06295233, -0.11714716,\n",
       "       -0.07379266,  0.33319739,  0.02263171,  0.30041766,  0.2935606 ,\n",
       "       -0.29077655, -0.12073059, -0.07441909,  0.15953803, -0.04056003,\n",
       "        0.19464289, -0.26337197, -0.47149864, -0.08403782,  0.16127037,\n",
       "       -0.32145083, -0.00886558,  0.29733   ,  0.07030799, -0.09396257,\n",
       "        0.02653675,  0.10540121, -0.1642877 , -0.04429116,  0.11250701,\n",
       "        0.00914967,  0.06654602,  0.0808007 ,  0.02452951, -0.15188275,\n",
       "        0.33855456, -0.04055331,  0.1381498 ,  0.24898969,  0.14678729,\n",
       "       -0.1223058 , -0.20271318, -0.05439379,  0.3270342 ,  0.02889074,\n",
       "       -0.3460155 , -0.07975385, -0.10270078], dtype=float32)"
      ]
     },
     "execution_count": 33,
     "metadata": {},
     "output_type": "execute_result"
    }
   ],
   "source": [
    "model.wv.get_vector('17')"
   ]
  },
  {
   "cell_type": "markdown",
   "metadata": {},
   "source": [
    "### 查找相似节点"
   ]
  },
  {
   "cell_type": "code",
   "execution_count": 34,
   "metadata": {},
   "outputs": [
    {
     "data": {
      "image/png": "[encoded data removed]",
      "text/plain": [
       "<Figure size 432x288 with 1 Axes>"
      ]
     },
     "metadata": {},
     "output_type": "display_data"
    }
   ],
   "source": [
    "pos = nx.spring_layout(G, seed=4)\n",
    "nx.draw(G, pos, with_labels=True)\n",
    "plt.show()"
   ]
  },
  {
   "cell_type": "code",
   "execution_count": 35,
   "metadata": {},
   "outputs": [
    {
     "name": "stdout",
     "output_type": "stream",
     "text": [
      "0.9872286\n",
      "0.13516873\n"
     ]
    }
   ],
   "source": [
    "# 节点对 相似度\n",
    "print(model.wv.similarity('25', '26'))\n",
    "print(model.wv.similarity('17', '25'))"
   ]
  },
  {
   "cell_type": "code",
   "execution_count": 36,
   "metadata": {},
   "outputs": [
    {
     "name": "stdout",
     "output_type": "stream",
     "text": [
      "[('26', 0.987228512763977), ('32', 0.8311098217964172), ('24', 0.8069222569465637), ('28', 0.7188161015510559), ('9', 0.5916701555252075), ('15', 0.5865539312362671), ('33', 0.581165075302124), ('29', 0.5746333599090576), ('19', 0.5653637647628784), ('34', 0.5437777638435364)]\n"
     ]
    }
   ],
   "source": [
    "# 找到最相似的节点\n",
    "print(model.wv.most_similar('25'))"
   ]
  },
  {
   "cell_type": "code",
   "execution_count": 37,
   "metadata": {},
   "outputs": [],
   "source": [
    "# 自定义相似性距离度量指标\n",
    "from scipy import spatial\n",
    "def cos_similarity(v1, v2):\n",
    "    # 余弦相似度\n",
    "    return 1 - spatial.distance.cosine(v1, v2)"
   ]
  },
  {
   "cell_type": "code",
   "execution_count": 38,
   "metadata": {},
   "outputs": [],
   "source": [
    "v1 = model.wv.get_vector('25')\n",
    "v2 = model.wv.get_vector('26')"
   ]
  },
  {
   "cell_type": "code",
   "execution_count": 39,
   "metadata": {},
   "outputs": [
    {
     "data": {
      "text/plain": [
       "0.9872285723686218"
      ]
     },
     "execution_count": 39,
     "metadata": {},
     "output_type": "execute_result"
    }
   ],
   "source": [
    "cos_similarity(v1, v2)"
   ]
  },
  {
   "cell_type": "markdown",
   "metadata": {},
   "source": [
    "### Node Embedding聚类"
   ]
  },
  {
   "cell_type": "markdown",
   "metadata": {},
   "source": [
    "#### 运行聚类"
   ]
  },
  {
   "cell_type": "code",
   "execution_count": 41,
   "metadata": {},
   "outputs": [],
   "source": [
    "# # DBSCAN聚类\n",
    "# from sklearn.cluster import DBSCAN\n",
    "# cluster_labels = DBSCAN(eps=0.5, min_samples=6).fit(X).labels_\n",
    "# print(cluster_labels)\n",
    "\n",
    "# KMeans聚类\n",
    "from sklearn.cluster import KMeans\n",
    "import numpy as np\n",
    "\n",
    "X = model.wv.vectors\n",
    "cluster_labels = KMeans(n_clusters=3, random_state=9).fit(X).labels_"
   ]
  },
  {
   "cell_type": "code",
   "execution_count": 42,
   "metadata": {},
   "outputs": [
    {
     "data": {
      "text/plain": [
       "array([1, 0, 0, 0, 1, 0, 1, 0, 0, 0, 1, 0, 1, 1, 0, 1, 0, 2, 1, 0, 1, 1,\n",
       "       1, 2, 1, 0, 1, 1, 1, 1, 1, 1, 0, 0], dtype=int32)"
      ]
     },
     "execution_count": 42,
     "metadata": {},
     "output_type": "execute_result"
    }
   ],
   "source": [
    "cluster_labels"
   ]
  },
  {
   "cell_type": "markdown",
   "metadata": {},
   "source": [
    "#### 将networkx中的节点和词向量中的节点对应"
   ]
  },
  {
   "cell_type": "code",
   "execution_count": 43,
   "metadata": {},
   "outputs": [],
   "source": [
    "colors = []\n",
    "nodes = list(G.nodes)\n",
    "for node in nodes: # 按 networkx 的顺序遍历每个节点\n",
    "    idx = model.wv.key_to_index[str(node)] # 获取这个节点在 embedding 中的索引号\n",
    "    colors.append(cluster_labels[idx]) # 获取这个节点的聚类结果"
   ]
  },
  {
   "cell_type": "code",
   "execution_count": 44,
   "metadata": {},
   "outputs": [
    {
     "data": {
      "text/plain": [
       "[0,\n",
       " 1,\n",
       " 0,\n",
       " 0,\n",
       " 0,\n",
       " 0,\n",
       " 0,\n",
       " 0,\n",
       " 0,\n",
       " 1,\n",
       " 0,\n",
       " 2,\n",
       " 0,\n",
       " 0,\n",
       " 0,\n",
       " 0,\n",
       " 0,\n",
       " 1,\n",
       " 1,\n",
       " 1,\n",
       " 1,\n",
       " 1,\n",
       " 2,\n",
       " 1,\n",
       " 1,\n",
       " 1,\n",
       " 1,\n",
       " 1,\n",
       " 1,\n",
       " 1,\n",
       " 1,\n",
       " 1,\n",
       " 1,\n",
       " 1]"
      ]
     },
     "execution_count": 44,
     "metadata": {},
     "output_type": "execute_result"
    }
   ],
   "source": [
    "colors"
   ]
  },
  {
   "cell_type": "markdown",
   "metadata": {},
   "source": [
    "#### 可视化聚类效果"
   ]
  },
  {
   "cell_type": "code",
   "execution_count": 46,
   "metadata": {},
   "outputs": [
    {
     "data": {
      "image/png": "[encoded data removed]",
      "text/plain": [
       "<Figure size 432x288 with 1 Axes>"
      ]
     },
     "metadata": {},
     "output_type": "display_data"
    }
   ],
   "source": [
    "pos = nx.spring_layout(G, seed=4)\n",
    "nx.draw(G, pos, node_color=colors, with_labels=True)\n",
    "plt.show()"
   ]
  },
  {
   "cell_type": "code",
   "execution_count": null,
   "metadata": {},
   "outputs": [],
   "source": []
  }
 ],
 "metadata": {
  "kernelspec": {
   "display_name": "Python 3",
   "language": "python",
   "name": "python3"
  },
  "language_info": {
   "codemirror_mode": {
    "name": "ipython",
    "version": 3
   },
   "file_extension": ".py",
   "mimetype": "text/x-python",
   "name": "python",
   "nbconvert_exporter": "python",
   "pygments_lexer": "ipython3",
   "version": "3.7.2"
  }
 },
 "nbformat": 4,
 "nbformat_minor": 2
}
